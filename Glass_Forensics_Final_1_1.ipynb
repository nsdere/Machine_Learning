{
 "cells": [
  {
   "cell_type": "markdown",
   "metadata": {},
   "source": [
    "# Glass Forensics\n",
    "\n",
    "**Enter your name here:**\n",
    "\n",
    "- First Name: Nursinem \n",
    "- Last Name: Dere"
   ]
  },
  {
   "cell_type": "markdown",
   "metadata": {},
   "source": [
    "\n",
    "\n",
    "\n",
    "### Data Set Information:\n",
    "\n",
    "The study of classification of types of glass was motivated by criminological investigation. At the scene of the crime, the glass left can be used as evidence...if it is correctly identified!\n",
    "\n",
    "**Attribute Information (Features)**:\n",
    "\n",
    "1. Id number: 1 to 214\n",
    "2. RI: refractive index\n",
    "3. Na: Sodium (unit measurement: weight percent in corresponding oxide, as are attributes 4-10)\n",
    "4. Mg: Magnesium\n",
    "5. Al: Aluminum\n",
    "6. Si: Silicon\n",
    "7. K: Potassium\n",
    "8. Ca: Calcium\n",
    "9. Ba: Barium\n",
    "10. Fe: Iron\n",
    "\n",
    "\n",
    "**Type of glass: (class attribute)**\n",
    "\n",
    "- 1 building_windows_float_processed\n",
    "- 2 building_windows_non_float_processed\n",
    "- 3 vehicle_windows_float_processed\n",
    "- 4 vehicle_windows_non_float_processed (none in this database)\n",
    "- 5 containers\n",
    "- 6 tableware\n",
    "- 7 headlamps\n",
    "\n"
   ]
  },
  {
   "cell_type": "code",
   "execution_count": 1,
   "metadata": {},
   "outputs": [],
   "source": [
    "import numpy as np\n",
    "import pandas as pd\n",
    "import matplotlib.pyplot as plt\n",
    "import seaborn as sns\n",
    "\n",
    "from sklearn.svm import SVC\n",
    "from sklearn.model_selection import cross_val_score\n",
    "from sklearn.model_selection import cross_val_predict\n",
    "from sklearn.model_selection import train_test_split\n",
    "\n",
    "from sklearn.model_selection import GridSearchCV\n"
   ]
  },
  {
   "cell_type": "code",
   "execution_count": 2,
   "metadata": {},
   "outputs": [],
   "source": [
    "Headers = [\"RI\" , \"Na\", \"Mg\", \"Al\", \"Si\", \"K\", \"Ca\", \"Ba\", \"Fe\", \"Type\"]\n",
    "df = pd.read_csv(\"glass.csv\" , sep = \",\" , names = Headers)"
   ]
  },
  {
   "cell_type": "code",
   "execution_count": 3,
   "metadata": {},
   "outputs": [
    {
     "data": {
      "text/html": [
       "<div>\n",
       "<style scoped>\n",
       "    .dataframe tbody tr th:only-of-type {\n",
       "        vertical-align: middle;\n",
       "    }\n",
       "\n",
       "    .dataframe tbody tr th {\n",
       "        vertical-align: top;\n",
       "    }\n",
       "\n",
       "    .dataframe thead th {\n",
       "        text-align: right;\n",
       "    }\n",
       "</style>\n",
       "<table border=\"1\" class=\"dataframe\">\n",
       "  <thead>\n",
       "    <tr style=\"text-align: right;\">\n",
       "      <th></th>\n",
       "      <th>RI</th>\n",
       "      <th>Na</th>\n",
       "      <th>Mg</th>\n",
       "      <th>Al</th>\n",
       "      <th>Si</th>\n",
       "      <th>K</th>\n",
       "      <th>Ca</th>\n",
       "      <th>Ba</th>\n",
       "      <th>Fe</th>\n",
       "      <th>Type</th>\n",
       "    </tr>\n",
       "  </thead>\n",
       "  <tbody>\n",
       "    <tr>\n",
       "      <th>1</th>\n",
       "      <td>1.52101</td>\n",
       "      <td>13.64</td>\n",
       "      <td>4.49</td>\n",
       "      <td>1.10</td>\n",
       "      <td>71.78</td>\n",
       "      <td>0.06</td>\n",
       "      <td>8.75</td>\n",
       "      <td>0.0</td>\n",
       "      <td>0.0</td>\n",
       "      <td>1</td>\n",
       "    </tr>\n",
       "    <tr>\n",
       "      <th>2</th>\n",
       "      <td>1.51761</td>\n",
       "      <td>13.89</td>\n",
       "      <td>3.60</td>\n",
       "      <td>1.36</td>\n",
       "      <td>72.73</td>\n",
       "      <td>0.48</td>\n",
       "      <td>7.83</td>\n",
       "      <td>0.0</td>\n",
       "      <td>0.0</td>\n",
       "      <td>1</td>\n",
       "    </tr>\n",
       "    <tr>\n",
       "      <th>3</th>\n",
       "      <td>1.51618</td>\n",
       "      <td>13.53</td>\n",
       "      <td>3.55</td>\n",
       "      <td>1.54</td>\n",
       "      <td>72.99</td>\n",
       "      <td>0.39</td>\n",
       "      <td>7.78</td>\n",
       "      <td>0.0</td>\n",
       "      <td>0.0</td>\n",
       "      <td>1</td>\n",
       "    </tr>\n",
       "    <tr>\n",
       "      <th>4</th>\n",
       "      <td>1.51766</td>\n",
       "      <td>13.21</td>\n",
       "      <td>3.69</td>\n",
       "      <td>1.29</td>\n",
       "      <td>72.61</td>\n",
       "      <td>0.57</td>\n",
       "      <td>8.22</td>\n",
       "      <td>0.0</td>\n",
       "      <td>0.0</td>\n",
       "      <td>1</td>\n",
       "    </tr>\n",
       "    <tr>\n",
       "      <th>5</th>\n",
       "      <td>1.51742</td>\n",
       "      <td>13.27</td>\n",
       "      <td>3.62</td>\n",
       "      <td>1.24</td>\n",
       "      <td>73.08</td>\n",
       "      <td>0.55</td>\n",
       "      <td>8.07</td>\n",
       "      <td>0.0</td>\n",
       "      <td>0.0</td>\n",
       "      <td>1</td>\n",
       "    </tr>\n",
       "  </tbody>\n",
       "</table>\n",
       "</div>"
      ],
      "text/plain": [
       "        RI     Na    Mg    Al     Si     K    Ca   Ba   Fe  Type\n",
       "1  1.52101  13.64  4.49  1.10  71.78  0.06  8.75  0.0  0.0     1\n",
       "2  1.51761  13.89  3.60  1.36  72.73  0.48  7.83  0.0  0.0     1\n",
       "3  1.51618  13.53  3.55  1.54  72.99  0.39  7.78  0.0  0.0     1\n",
       "4  1.51766  13.21  3.69  1.29  72.61  0.57  8.22  0.0  0.0     1\n",
       "5  1.51742  13.27  3.62  1.24  73.08  0.55  8.07  0.0  0.0     1"
      ]
     },
     "execution_count": 3,
     "metadata": {},
     "output_type": "execute_result"
    }
   ],
   "source": [
    "df.head()"
   ]
  },
  {
   "cell_type": "code",
   "execution_count": 4,
   "metadata": {},
   "outputs": [
    {
     "data": {
      "text/html": [
       "<div>\n",
       "<style scoped>\n",
       "    .dataframe tbody tr th:only-of-type {\n",
       "        vertical-align: middle;\n",
       "    }\n",
       "\n",
       "    .dataframe tbody tr th {\n",
       "        vertical-align: top;\n",
       "    }\n",
       "\n",
       "    .dataframe thead th {\n",
       "        text-align: right;\n",
       "    }\n",
       "</style>\n",
       "<table border=\"1\" class=\"dataframe\">\n",
       "  <thead>\n",
       "    <tr style=\"text-align: right;\">\n",
       "      <th></th>\n",
       "      <th>RI</th>\n",
       "      <th>Na</th>\n",
       "      <th>Mg</th>\n",
       "      <th>Al</th>\n",
       "      <th>Si</th>\n",
       "      <th>K</th>\n",
       "      <th>Ca</th>\n",
       "      <th>Ba</th>\n",
       "      <th>Fe</th>\n",
       "      <th>Type</th>\n",
       "    </tr>\n",
       "  </thead>\n",
       "  <tbody>\n",
       "    <tr>\n",
       "      <th>count</th>\n",
       "      <td>214.000000</td>\n",
       "      <td>214.000000</td>\n",
       "      <td>214.000000</td>\n",
       "      <td>214.000000</td>\n",
       "      <td>214.000000</td>\n",
       "      <td>214.000000</td>\n",
       "      <td>214.000000</td>\n",
       "      <td>214.000000</td>\n",
       "      <td>214.000000</td>\n",
       "      <td>214.000000</td>\n",
       "    </tr>\n",
       "    <tr>\n",
       "      <th>mean</th>\n",
       "      <td>1.518365</td>\n",
       "      <td>13.407850</td>\n",
       "      <td>2.684533</td>\n",
       "      <td>1.444907</td>\n",
       "      <td>72.650935</td>\n",
       "      <td>0.497056</td>\n",
       "      <td>8.956963</td>\n",
       "      <td>0.175047</td>\n",
       "      <td>0.057009</td>\n",
       "      <td>2.780374</td>\n",
       "    </tr>\n",
       "    <tr>\n",
       "      <th>std</th>\n",
       "      <td>0.003037</td>\n",
       "      <td>0.816604</td>\n",
       "      <td>1.442408</td>\n",
       "      <td>0.499270</td>\n",
       "      <td>0.774546</td>\n",
       "      <td>0.652192</td>\n",
       "      <td>1.423153</td>\n",
       "      <td>0.497219</td>\n",
       "      <td>0.097439</td>\n",
       "      <td>2.103739</td>\n",
       "    </tr>\n",
       "    <tr>\n",
       "      <th>min</th>\n",
       "      <td>1.511150</td>\n",
       "      <td>10.730000</td>\n",
       "      <td>0.000000</td>\n",
       "      <td>0.290000</td>\n",
       "      <td>69.810000</td>\n",
       "      <td>0.000000</td>\n",
       "      <td>5.430000</td>\n",
       "      <td>0.000000</td>\n",
       "      <td>0.000000</td>\n",
       "      <td>1.000000</td>\n",
       "    </tr>\n",
       "    <tr>\n",
       "      <th>25%</th>\n",
       "      <td>1.516523</td>\n",
       "      <td>12.907500</td>\n",
       "      <td>2.115000</td>\n",
       "      <td>1.190000</td>\n",
       "      <td>72.280000</td>\n",
       "      <td>0.122500</td>\n",
       "      <td>8.240000</td>\n",
       "      <td>0.000000</td>\n",
       "      <td>0.000000</td>\n",
       "      <td>1.000000</td>\n",
       "    </tr>\n",
       "    <tr>\n",
       "      <th>50%</th>\n",
       "      <td>1.517680</td>\n",
       "      <td>13.300000</td>\n",
       "      <td>3.480000</td>\n",
       "      <td>1.360000</td>\n",
       "      <td>72.790000</td>\n",
       "      <td>0.555000</td>\n",
       "      <td>8.600000</td>\n",
       "      <td>0.000000</td>\n",
       "      <td>0.000000</td>\n",
       "      <td>2.000000</td>\n",
       "    </tr>\n",
       "    <tr>\n",
       "      <th>75%</th>\n",
       "      <td>1.519157</td>\n",
       "      <td>13.825000</td>\n",
       "      <td>3.600000</td>\n",
       "      <td>1.630000</td>\n",
       "      <td>73.087500</td>\n",
       "      <td>0.610000</td>\n",
       "      <td>9.172500</td>\n",
       "      <td>0.000000</td>\n",
       "      <td>0.100000</td>\n",
       "      <td>3.000000</td>\n",
       "    </tr>\n",
       "    <tr>\n",
       "      <th>max</th>\n",
       "      <td>1.533930</td>\n",
       "      <td>17.380000</td>\n",
       "      <td>4.490000</td>\n",
       "      <td>3.500000</td>\n",
       "      <td>75.410000</td>\n",
       "      <td>6.210000</td>\n",
       "      <td>16.190000</td>\n",
       "      <td>3.150000</td>\n",
       "      <td>0.510000</td>\n",
       "      <td>7.000000</td>\n",
       "    </tr>\n",
       "  </tbody>\n",
       "</table>\n",
       "</div>"
      ],
      "text/plain": [
       "               RI          Na          Mg          Al          Si           K  \\\n",
       "count  214.000000  214.000000  214.000000  214.000000  214.000000  214.000000   \n",
       "mean     1.518365   13.407850    2.684533    1.444907   72.650935    0.497056   \n",
       "std      0.003037    0.816604    1.442408    0.499270    0.774546    0.652192   \n",
       "min      1.511150   10.730000    0.000000    0.290000   69.810000    0.000000   \n",
       "25%      1.516523   12.907500    2.115000    1.190000   72.280000    0.122500   \n",
       "50%      1.517680   13.300000    3.480000    1.360000   72.790000    0.555000   \n",
       "75%      1.519157   13.825000    3.600000    1.630000   73.087500    0.610000   \n",
       "max      1.533930   17.380000    4.490000    3.500000   75.410000    6.210000   \n",
       "\n",
       "               Ca          Ba          Fe        Type  \n",
       "count  214.000000  214.000000  214.000000  214.000000  \n",
       "mean     8.956963    0.175047    0.057009    2.780374  \n",
       "std      1.423153    0.497219    0.097439    2.103739  \n",
       "min      5.430000    0.000000    0.000000    1.000000  \n",
       "25%      8.240000    0.000000    0.000000    1.000000  \n",
       "50%      8.600000    0.000000    0.000000    2.000000  \n",
       "75%      9.172500    0.000000    0.100000    3.000000  \n",
       "max     16.190000    3.150000    0.510000    7.000000  "
      ]
     },
     "execution_count": 4,
     "metadata": {},
     "output_type": "execute_result"
    }
   ],
   "source": [
    "df.describe()"
   ]
  },
  {
   "cell_type": "markdown",
   "metadata": {},
   "source": [
    "### (a) Calculate the correlation matrix of the data and plot a heatmap of the correlation matrix\n",
    "- Calculate the correlation matrix of the data and plot a heatmap of the correlation matrix.\n",
    "- Which features are correlated most positively (neglect the diagonal)?\n",
    "- which features are correlated most negatively?"
   ]
  },
  {
   "cell_type": "code",
   "execution_count": 7,
   "metadata": {},
   "outputs": [
    {
     "name": "stdout",
     "output_type": "stream",
     "text": [
      "          RI        Na        Mg        Al        Si         K        Ca  \\\n",
      "RI  1.000000 -0.191885 -0.122274 -0.407326 -0.542052 -0.289833  0.810403   \n",
      "Na -0.191885  1.000000 -0.273732  0.156794 -0.069809 -0.266087 -0.275442   \n",
      "Mg -0.122274 -0.273732  1.000000 -0.481799 -0.165927  0.005396 -0.443750   \n",
      "Al -0.407326  0.156794 -0.481799  1.000000 -0.005524  0.325958 -0.259592   \n",
      "Si -0.542052 -0.069809 -0.165927 -0.005524  1.000000 -0.193331 -0.208732   \n",
      "K  -0.289833 -0.266087  0.005396  0.325958 -0.193331  1.000000 -0.317836   \n",
      "Ca  0.810403 -0.275442 -0.443750 -0.259592 -0.208732 -0.317836  1.000000   \n",
      "Ba -0.000386  0.326603 -0.492262  0.479404 -0.102151 -0.042618 -0.112841   \n",
      "Fe  0.143010 -0.241346  0.083060 -0.074402 -0.094201 -0.007719  0.124968   \n",
      "\n",
      "          Ba        Fe  \n",
      "RI -0.000386  0.143010  \n",
      "Na  0.326603 -0.241346  \n",
      "Mg -0.492262  0.083060  \n",
      "Al  0.479404 -0.074402  \n",
      "Si -0.102151 -0.094201  \n",
      "K  -0.042618 -0.007719  \n",
      "Ca -0.112841  0.124968  \n",
      "Ba  1.000000 -0.058692  \n",
      "Fe -0.058692  1.000000  \n"
     ]
    },
    {
     "data": {
      "image/png": "[encoded data removed]",
      "text/plain": [
       "<Figure size 432x288 with 2 Axes>"
      ]
     },
     "metadata": {
      "needs_background": "light"
     },
     "output_type": "display_data"
    }
   ],
   "source": [
    "import seaborn as sn\n",
    "import matplotlib.pyplot as plt\n",
    "\n",
    "features=df.iloc[:,:-1].columns;\n",
    "corr = df[features].corr()\n",
    "\n",
    "#enter your code here\n",
    "print (corr) #correlation matrix\n",
    "sn.heatmap(corr, annot=True) #heatmap\n",
    "plt.show()\n",
    "\n",
    "#RI-Ca, RI-Ba, RI-Fe positively correlated\n",
    "#Na-Al, Na-Ba, Al-Si positively correlated\n",
    "#RI-Na, RI-Mg, RI-Al, RI-Si, RI-K negatively correlated\n",
    "#Mg-Ca, Mg-Ba, Al-Mg negatively correlated\n",
    "#...\n"
   ]
  },
  {
   "cell_type": "markdown",
   "metadata": {},
   "source": [
    "### (b) Class Balance\n",
    "\n",
    "- Plot a histogram of the target variable, the glass type.\n",
    "- Are the classes well balanced?\n",
    "- What is the risk of unbalanced classes and what can be done to improve the situation?\n"
   ]
  },
  {
   "cell_type": "code",
   "execution_count": 8,
   "metadata": {},
   "outputs": [
    {
     "data": {
      "text/plain": [
       "Text(0, 0.5, 'frequency')"
      ]
     },
     "execution_count": 8,
     "metadata": {},
     "output_type": "execute_result"
    },
    {
     "data": {
      "image/png": "[encoded data removed]",
      "text/plain": [
       "<Figure size 432x288 with 1 Axes>"
      ]
     },
     "metadata": {
      "needs_background": "light"
     },
     "output_type": "display_data"
    }
   ],
   "source": [
    "# enter your code here\n",
    "plt.figure()\n",
    "plt.hist(df['Type'])\n",
    "plt.xlabel('target')\n",
    "plt.ylabel('frequency')\n",
    "#Not well balanced, we can upsample minorty classes, downsample majority classes, change the performance metric etc.\n"
   ]
  },
  {
   "cell_type": "markdown",
   "metadata": {},
   "source": [
    "### (c) Test Train Split\n",
    "- Split the data in 80% training and 20% test data.\n"
   ]
  },
  {
   "cell_type": "code",
   "execution_count": 10,
   "metadata": {},
   "outputs": [],
   "source": [
    "\n",
    "Y = df[\"Type\"].values\n",
    "Y = Y.astype(float)\n",
    "X = df.values\n",
    "\n",
    "# enter your code here\n",
    "\n",
    "from sklearn.model_selection import train_test_split\n",
    "X_train, X_test, y_train, y_test = train_test_split(X, Y, test_size=0.20, random_state=1)\n",
    "\n"
   ]
  },
  {
   "cell_type": "markdown",
   "metadata": {},
   "source": [
    "### (d) Scaling\n",
    "\n",
    "- Scale the data using the `StandardScaler()` form `sklearn.preprocessing`.\n",
    "- Train the `StandardScaler()` on the training data and apply it also to the test data."
   ]
  },
  {
   "cell_type": "code",
   "execution_count": 11,
   "metadata": {},
   "outputs": [],
   "source": [
    "from sklearn.preprocessing import StandardScaler\n",
    "\n",
    "# enter your code here\n",
    "# Scaler=StandardScaler()\n",
    "\n",
    "Scaler = StandardScaler()\n",
    "Xtrain_scale = Scaler.fit_transform(X_train)\n",
    "Xtest_scale = Scaler.transform(X_test)\n",
    "\n"
   ]
  },
  {
   "cell_type": "markdown",
   "metadata": {},
   "source": [
    "### (e) Linear Kernel\n",
    "- Train a *Support Vector Classifier* (`SVC`) from `sklearn.svm` using a linear kernel with `C=0.1`.\n",
    "- Print the *classification report* on the test data using `classification_report` from `sklearn.metrics`. \n",
    "- Print the *classification accuracy* on the test data.\n",
    "- Print the *confusion matrix*"
   ]
  },
  {
   "cell_type": "code",
   "execution_count": 19,
   "metadata": {},
   "outputs": [
    {
     "name": "stdout",
     "output_type": "stream",
     "text": [
      "              precision    recall  f1-score   support\n",
      "\n",
      "         1.0       1.00      1.00      1.00        19\n",
      "         2.0       1.00      1.00      1.00        12\n",
      "         3.0       1.00      1.00      1.00         6\n",
      "         5.0       1.00      1.00      1.00         1\n",
      "         6.0       1.00      1.00      1.00         1\n",
      "         7.0       1.00      1.00      1.00         4\n",
      "\n",
      "    accuracy                           1.00        43\n",
      "   macro avg       1.00      1.00      1.00        43\n",
      "weighted avg       1.00      1.00      1.00        43\n",
      "\n",
      "Accuracy: 1.000000\n"
     ]
    },
    {
     "data": {
      "image/png": "[encoded data removed]",
      "text/plain": [
       "<Figure size 432x288 with 1 Axes>"
      ]
     },
     "metadata": {
      "needs_background": "light"
     },
     "output_type": "display_data"
    }
   ],
   "source": [
    "from sklearn.metrics import accuracy_score\n",
    "from sklearn.metrics import classification_report, confusion_matrix\n",
    "\n",
    "# enter your code here\n",
    "# clf1 = SVC(...)\n",
    "\n",
    "C = 0.1\n",
    "clf1 = SVC(kernel='linear', C=C)\n",
    "clf1.fit(X_train, y_train)\n",
    "\n",
    "y_true, y_pred = y_test, clf1.predict(X_test)\n",
    "print(classification_report(y_true, y_pred))\n",
    "\n",
    "print('Accuracy: %f' % accuracy_score(y_test, y_pred))\n",
    "\n",
    "conf = confusion_matrix(y_pred, y_test)\n",
    "sns.heatmap(conf, annot=True, fmt='d', cbar=False, cmap=\"coolwarm_r\",  linewidth = 1)\n",
    "plt.xlabel('Truth')\n",
    "plt.ylabel('Predicted')\n",
    "plt.show()"
   ]
  },
  {
   "cell_type": "markdown",
   "metadata": {},
   "source": [
    "### (f) Support Vector Classifier (SVC) using Radial Basis function kernel (RBF)\n",
    "- Train a Support Vector Classifier using a *Radial Basis Function kernel* (`RBF`) with `C=100` and `gamma=0.1`.\n",
    "- Print the classification on the test data report using `classification_report` from `sklearn.metrics`. \n",
    "- Print the classification *accuracy* on the test data.\n",
    "- Print the *confusion matrix*\n"
   ]
  },
  {
   "cell_type": "code",
   "execution_count": 23,
   "metadata": {},
   "outputs": [
    {
     "name": "stdout",
     "output_type": "stream",
     "text": [
      "              precision    recall  f1-score   support\n",
      "\n",
      "         1.0       1.00      1.00      1.00        19\n",
      "         2.0       1.00      1.00      1.00        12\n",
      "         3.0       1.00      1.00      1.00         6\n",
      "         5.0       1.00      1.00      1.00         1\n",
      "         6.0       1.00      1.00      1.00         1\n",
      "         7.0       1.00      1.00      1.00         4\n",
      "\n",
      "    accuracy                           1.00        43\n",
      "   macro avg       1.00      1.00      1.00        43\n",
      "weighted avg       1.00      1.00      1.00        43\n",
      "\n",
      "Accuracy: 1.000000\n"
     ]
    },
    {
     "data": {
      "image/png": "[encoded data removed]",
      "text/plain": [
       "<Figure size 432x288 with 1 Axes>"
      ]
     },
     "metadata": {
      "needs_background": "light"
     },
     "output_type": "display_data"
    }
   ],
   "source": [
    "# enter your code here\n",
    "# clf2 = SVC(...)\n",
    "clf2 = SVC(kernel='rbf', C=100, gamma=0.1, probability=True)\n",
    "clf2.fit(X_train, y_train)\n",
    "\n",
    "y_true, y_pred = y_test, clf2.predict(X_test)\n",
    "print(classification_report(y_true, y_pred))\n",
    "\n",
    "print('Accuracy: %f' % accuracy_score(y_test, y_pred))\n",
    "\n",
    "conf = confusion_matrix(y_pred, y_test)\n",
    "sns.heatmap(conf, annot=True, fmt='d', cbar=False, cmap=\"coolwarm_r\",  linewidth = 1)\n",
    "plt.xlabel('Truth')\n",
    "plt.ylabel('Predicted')\n",
    "plt.show()\n"
   ]
  },
  {
   "cell_type": "markdown",
   "metadata": {},
   "source": [
    "### (g) 5-fold crossvalidated Grid Search\n",
    "- Perform a 5-fold crossvalidated *grid search* over the parameters `C` and `gamma`. Use `GridSearchCV` form `sklearn.model_selection`\n",
    "- Vary both parameters logarithmically in seven steps from $10^{-3}$ to $10^{+3}$.\n",
    "- What are the optimum parameters for `gamma` and `C`?\n",
    "- What is the *accuracy* of the best classifier on the test data?"
   ]
  },
  {
   "cell_type": "code",
   "execution_count": 29,
   "metadata": {},
   "outputs": [
    {
     "name": "stdout",
     "output_type": "stream",
     "text": [
      "The best parameters are {'C': 1000.0, 'gamma': 0.001}\n",
      "Accuracy: 1.000000\n"
     ]
    }
   ],
   "source": [
    "from sklearn.model_selection import StratifiedShuffleSplit\n",
    "from sklearn.model_selection import GridSearchCV\n",
    "from sklearn.metrics import accuracy_score\n",
    "\n",
    "C_range     = np.logspace(-3, 3, 7)\n",
    "gamma_range = np.logspace(-3, 3, 7)\n",
    "param_grid  = dict(gamma=gamma_range, C=C_range)\n",
    "\n",
    "#enter your code here\n",
    "# model=...\n",
    "# cv = StratifiedShuffleSplit(...)\n",
    "# grid = GridSearchCV(model, param_grid=..., cv=...,n_jobs=-1)\n",
    "# ...\n",
    "\n",
    "C_range = np.logspace(-3, 3, 7)\n",
    "gamma_range = np.logspace(-3, 3, 7)\n",
    "param_grid = dict(gamma=gamma_range, C=C_range)\n",
    "\n",
    "model=SVC()\n",
    "\n",
    "cv = StratifiedShuffleSplit(n_splits=5, test_size=0.2, random_state=42)\n",
    "grid = GridSearchCV(model, param_grid=param_grid, cv=cv,n_jobs=-1)\n",
    "grid.fit(X_train, y_train)\n",
    "\n",
    "\n",
    "print(\"The best parameters are %s\" % (grid.best_params_))\n",
    "\n",
    "y_pred = grid.best_estimator_.predict(X_test)\n",
    "print('Accuracy: %f' % accuracy_score(y_test, y_pred))\n",
    "\n"
   ]
  },
  {
   "cell_type": "markdown",
   "metadata": {},
   "source": [
    "### Plot the confusion matrix of the best estimator\n",
    "\n",
    "- Print the classification *accuracy* on the test data.\n",
    "- Print the *confusion matrix*"
   ]
  },
  {
   "cell_type": "code",
   "execution_count": 31,
   "metadata": {},
   "outputs": [
    {
     "data": {
      "image/png": "[encoded data removed]",
      "text/plain": [
       "<Figure size 432x288 with 1 Axes>"
      ]
     },
     "metadata": {
      "needs_background": "light"
     },
     "output_type": "display_data"
    }
   ],
   "source": [
    "from sklearn.metrics import classification_report, confusion_matrix\n",
    "\n",
    "# enter your code here\n",
    "\n",
    "y_pred = grid.best_estimator_.predict(X_test)\n",
    "conf = confusion_matrix(y_pred, y_test)\n",
    "    # plot\n",
    "sns.heatmap(conf, annot=True, fmt='d', cbar=False, cmap=\"coolwarm_r\",  linewidth = 1)\n",
    "plt.xlabel('Truth')\n",
    "plt.ylabel('Predicted')\n",
    "plt.show()\n",
    "    \n"
   ]
  },
  {
   "cell_type": "markdown",
   "metadata": {},
   "source": [
    "## Upload this notebook as ipynb-File and as html-File (File  →  Download as  →  HTML) to the upload field of this question (2 files are allowed). "
   ]
  }
 ],
 "metadata": {
  "kernelspec": {
   "display_name": "Python 3",
   "language": "python",
   "name": "python3"
  },
  "language_info": {
   "codemirror_mode": {
    "name": "ipython",
    "version": 3
   },
   "file_extension": ".py",
   "mimetype": "text/x-python",
   "name": "python",
   "nbconvert_exporter": "python",
   "pygments_lexer": "ipython3",
   "version": "3.8.5"
  }
 },
 "nbformat": 4,
 "nbformat_minor": 4
}
