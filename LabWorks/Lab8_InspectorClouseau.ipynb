{
 "cells": [
  {
   "cell_type": "markdown",
   "metadata": {},
   "source": [
    "## Inspector Clouseau: Extended Solution\n",
    "\n",
    "- Author: Christoph Würsch\n",
    "- Subject: MSE TSM_MachLe\n",
    "- Bayesian Theorem, Probabilistic Thinking"
   ]
  },
  {
   "cell_type": "markdown",
   "metadata": {},
   "source": [
    "Lets first import pandas and define the quantities that are given by the excercise.\n",
    "\n",
    "The nomenclature is as follows:\n",
    "\n",
    "conditional probabilities:\n",
    "- $p(y \\vert x) =$ `p1y_1x`\n",
    "- $p(y \\vert \\bar{x}) =$ `p1y_0x`\n",
    "- $p(\\bar{y} \\vert x) =$ `p0y_1x`\n",
    "- $p(\\bar{y} \\vert \\bar{x}) =$ `p0y_0x`\n",
    "\n"
   ]
  },
  {
   "cell_type": "code",
   "execution_count": 2,
   "metadata": {},
   "outputs": [],
   "source": [
    "import pandas as pd\n",
    "\n",
    "# prior probabilities\n",
    "p1B = 0.6\n",
    "p0B = 1-p1B\n",
    "p1M = 0.2\n",
    "p0M = 1-p1M"
   ]
  },
  {
   "cell_type": "markdown",
   "metadata": {},
   "source": [
    "### conditional probabilities\n",
    "\n",
    "$$p(K \\vert B,M) = 0.1$$\n",
    "$$p(K \\vert B,\\bar{M}) = 0.6$$\n",
    "$$p(K \\vert \\bar{B},M) = 0.2$$\n",
    "$$p(K \\vert \\bar{B},\\bar{M}) = 0.3$$"
   ]
  },
  {
   "cell_type": "code",
   "execution_count": 3,
   "metadata": {},
   "outputs": [],
   "source": [
    "#conditional probabilities for the knife 1K means K=True\n",
    "p1K_1B1M=0.1\n",
    "p1K_1B0M=0.6\n",
    "p1K_0B1M=0.2\n",
    "p1K_0B0M=0.3\n",
    "\n",
    "#conditional probabilities for not the knife 0K means K=False\n",
    "p0K_1B1M=1-p1K_1B1M\n",
    "p0K_1B0M=1-p1K_1B0M\n",
    "p0K_0B1M=1-p1K_0B1M\n",
    "p0K_0B0M=1-p1K_0B0M"
   ]
  },
  {
   "cell_type": "markdown",
   "metadata": {},
   "source": [
    "Using __Bayes Theroem__ we can invert the conditonal probabilities.\n",
    "\n",
    "$$ p(B\\vert K)= \\frac{p(K \\vert B) \\cdot p(B)}{p(K)}$$ \n",
    "\n",
    "To calculate the prior $p(K)$, we even have to marginalize over the states $b \\in \\mathrm{dom}(B)$ of the butler B.\n",
    "\n",
    "$$ p(B\\vert K)= \\frac{p(K \\vert B) \\cdot p(B)}{p(K)} = \\frac{p(K \\vert B) \\cdot p(B)}{\\sum_{b \\in \\mathrm{dom}(B)} p(K \\vert B) \\cdot p(B)}  $$ \n",
    "\n",
    "Since the conditionals also depend on the state of the Maid M, we have to marginalize over the states  $m \\in \\mathrm{dom}(M)$ of the Maid M. If we know the full joint probability density $p(k,b,m)$ for all states of $K,B$ and $M$, we could just marignalize over the joint probability distribution:\n",
    "\n",
    "$$p(K)=\\sum_{b \\in \\mathrm{dom}(B)} \\left \\lbrace \\sum_{m \\in \\mathrm{dom}(M)} p(K,b,m)  \\right \\rbrace$$\n",
    "\n",
    "\n",
    "\n",
    "But now that we are only given the *conditional probabilites*, we have to use __Bayes' therorem__ to calculate the joint probability distribution:\n",
    "\n",
    "$$ p(k,b,m)=p(k \\vert b,m) \\cdot p(b) \\cdot p(m) $$\n",
    "\n",
    "So we have to sum up over the conditional multiplied by the priors $p(b)$ and $p(m)$:\n",
    "\n",
    "$$p(K)=\\sum_{b \\in \\mathrm{dom}(B)} \\left \\lbrace \\sum_{m \\in \\mathrm{dom}(M)} p(K \\vert b,m)\\cdot p(m)  \\right \\rbrace \\cdot p(b)$$\n",
    "\n",
    "Using this, we get:\n",
    "\n",
    "\n",
    "$$p(B \\vert K) = \\frac{\\left \\lbrace \\sum_{m \\in \\mathrm{dom}(M)} p(K \\vert B,m)\\cdot p(m)  \\right \\rbrace \\cdot p(B) }{\\sum_{b \\in \\mathrm{dom}(B)} \\left \\lbrace \\sum_{m \\in \\mathrm{dom}(M)} p(K \\vert b,m)\\cdot p(m)  \\right \\rbrace \\cdot p(b)}$$\n",
    "    "
   ]
  },
  {
   "cell_type": "code",
   "execution_count": 4,
   "metadata": {},
   "outputs": [
    {
     "name": "stdout",
     "output_type": "stream",
     "text": [
      "The marginal for K=1 is p(K=1):  0.41200000000000003\n",
      "The marginal for K=0 is p(K=0):  0.5880000000000001\n",
      "test: p(K=0)+p(K=1):  1.0\n",
      "p(M | K): 0.7281553398058251\n"
     ]
    }
   ],
   "source": [
    "# (a) calculate the probability that the butler ist the murderer\n",
    "# given the fact that a knife was found as the corpus delicti\n",
    "# p(B | K)\n",
    "\n",
    "num=p1B*(p1K_1B1M*p1M+p1K_1B0M*p0M)\n",
    "p1K=p1B*(p1K_1B1M*p1M+p1K_1B0M*p0M)+p0B*(p1K_0B1M*p1M+p1K_0B0M*p0M)\n",
    "p0K=p1B*(p0K_1B1M*p1M+p0K_1B0M*p0M)+p0B*(p0K_0B1M*p1M+p0K_0B0M*p0M)\n",
    "\n",
    "p1B_1K=num/p1K\n",
    "\n",
    "print('The marginal for K=1 is p(K=1): ', p1K)\n",
    "print('The marginal for K=0 is p(K=0): ', p0K)\n",
    "print('test: p(K=0)+p(K=1): ', p0K+p1K)\n",
    "\n",
    "print('p(M | K):', p1B_1K)"
   ]
  },
  {
   "cell_type": "code",
   "execution_count": 5,
   "metadata": {},
   "outputs": [],
   "source": [
    "# calculation of the joint probability distribution\n",
    "p1K1B1M=p1K_1B1M*p1B*p1M\n",
    "p1K1B0M=p1K_1B0M*p1B*p0M\n",
    "p1K0B1M=p1K_0B1M*p0B*p1M\n",
    "p1K0B0M=p1K_0B0M*p0B*p0M\n",
    "\n",
    "p0K1B1M=p0K_1B1M*p1B*p1M\n",
    "p0K1B0M=p0K_1B0M*p1B*p0M\n",
    "p0K0B1M=p0K_0B1M*p0B*p1M\n",
    "p0K0B0M=p0K_0B0M*p0B*p0M\n"
   ]
  },
  {
   "cell_type": "code",
   "execution_count": 15,
   "metadata": {},
   "outputs": [
    {
     "data": {
      "text/html": [
       "<div>\n",
       "<style scoped>\n",
       "    .dataframe tbody tr th:only-of-type {\n",
       "        vertical-align: middle;\n",
       "    }\n",
       "\n",
       "    .dataframe tbody tr th {\n",
       "        vertical-align: top;\n",
       "    }\n",
       "\n",
       "    .dataframe thead th {\n",
       "        text-align: right;\n",
       "    }\n",
       "</style>\n",
       "<table border=\"1\" class=\"dataframe\">\n",
       "  <thead>\n",
       "    <tr style=\"text-align: right;\">\n",
       "      <th></th>\n",
       "      <th>K</th>\n",
       "      <th>B</th>\n",
       "      <th>M</th>\n",
       "      <th>p(K,B,M)</th>\n",
       "    </tr>\n",
       "  </thead>\n",
       "  <tbody>\n",
       "    <tr>\n",
       "      <th>0</th>\n",
       "      <td>1</td>\n",
       "      <td>1</td>\n",
       "      <td>1</td>\n",
       "      <td>0.012</td>\n",
       "    </tr>\n",
       "    <tr>\n",
       "      <th>1</th>\n",
       "      <td>1</td>\n",
       "      <td>1</td>\n",
       "      <td>0</td>\n",
       "      <td>0.288</td>\n",
       "    </tr>\n",
       "    <tr>\n",
       "      <th>2</th>\n",
       "      <td>1</td>\n",
       "      <td>0</td>\n",
       "      <td>1</td>\n",
       "      <td>0.016</td>\n",
       "    </tr>\n",
       "    <tr>\n",
       "      <th>3</th>\n",
       "      <td>1</td>\n",
       "      <td>0</td>\n",
       "      <td>0</td>\n",
       "      <td>0.096</td>\n",
       "    </tr>\n",
       "    <tr>\n",
       "      <th>4</th>\n",
       "      <td>0</td>\n",
       "      <td>1</td>\n",
       "      <td>1</td>\n",
       "      <td>0.108</td>\n",
       "    </tr>\n",
       "    <tr>\n",
       "      <th>5</th>\n",
       "      <td>0</td>\n",
       "      <td>1</td>\n",
       "      <td>0</td>\n",
       "      <td>0.192</td>\n",
       "    </tr>\n",
       "    <tr>\n",
       "      <th>6</th>\n",
       "      <td>0</td>\n",
       "      <td>0</td>\n",
       "      <td>1</td>\n",
       "      <td>0.064</td>\n",
       "    </tr>\n",
       "    <tr>\n",
       "      <th>7</th>\n",
       "      <td>0</td>\n",
       "      <td>0</td>\n",
       "      <td>0</td>\n",
       "      <td>0.224</td>\n",
       "    </tr>\n",
       "  </tbody>\n",
       "</table>\n",
       "</div>"
      ],
      "text/plain": [
       "   K  B  M  p(K,B,M)\n",
       "0  1  1  1     0.012\n",
       "1  1  1  0     0.288\n",
       "2  1  0  1     0.016\n",
       "3  1  0  0     0.096\n",
       "4  0  1  1     0.108\n",
       "5  0  1  0     0.192\n",
       "6  0  0  1     0.064\n",
       "7  0  0  0     0.224"
      ]
     },
     "execution_count": 15,
     "metadata": {},
     "output_type": "execute_result"
    }
   ],
   "source": [
    "\n",
    "p= [p1K1B1M, p1K1B0M, p1K0B1M, p1K0B0M, p0K1B1M, p0K1B0M, p0K0B1M, p0K0B0M]\n",
    "#create a dictionary and later a dataframe\n",
    "d={'K': [1,1,1,1,0,0,0,0], 'B': [1,1,0,0,1,1,0,0], 'M': [1,0,1,0,1,0,1,0], 'p(K,B,M)':p}\n",
    "\n",
    "\n",
    "df=pd.DataFrame(data=d)\n",
    "\n",
    "df.head(8)"
   ]
  },
  {
   "cell_type": "markdown",
   "metadata": {},
   "source": [
    "Let's test whether we did all calculations right: The probabilities must sum up to one."
   ]
  },
  {
   "cell_type": "code",
   "execution_count": 9,
   "metadata": {},
   "outputs": [
    {
     "data": {
      "text/plain": [
       "1.0"
      ]
     },
     "execution_count": 9,
     "metadata": {},
     "output_type": "execute_result"
    }
   ],
   "source": [
    "df.iloc[:,3].sum()"
   ]
  },
  {
   "cell_type": "markdown",
   "metadata": {},
   "source": [
    "Now, we can easily calculate the marginals:"
   ]
  },
  {
   "cell_type": "markdown",
   "metadata": {},
   "source": [
    "Marginal for the __Knife=True__:\n",
    "    $$p(K=\\mathrm{True})=\\sum_{b \\in \\mathrm{dom}(B)} \\left \\lbrace \\sum_{m \\in \\mathrm{dom}(M)} p(K=\\mathrm{True}, b,m)  \\right \\rbrace$$"
   ]
  },
  {
   "cell_type": "code",
   "execution_count": 12,
   "metadata": {},
   "outputs": [
    {
     "name": "stdout",
     "output_type": "stream",
     "text": [
      "p(K=True)= 0.41200000000000003\n",
      "p(K=False)= 0.5880000000000001\n"
     ]
    }
   ],
   "source": [
    "#marginal for the Knife K\n",
    "print('p(K=True)=',df[df['K']==1].iloc[:,3].sum())\n",
    "print('p(K=False)=',df[df['K']==0].iloc[:,3].sum())"
   ]
  },
  {
   "cell_type": "markdown",
   "metadata": {},
   "source": [
    "Marginal for the __Butler=True__:\n",
    "    $$p(B=\\mathrm{True})=\\sum_{k \\in \\mathrm{dom}(K)} \\left \\lbrace \\sum_{m \\in \\mathrm{dom}(M)} p(k, B=\\mathrm{True}, m) \\right \\rbrace$$"
   ]
  },
  {
   "cell_type": "code",
   "execution_count": 13,
   "metadata": {},
   "outputs": [
    {
     "name": "stdout",
     "output_type": "stream",
     "text": [
      "p(B=True)= 0.6000000000000001\n",
      "p(B=False)= 0.4\n"
     ]
    }
   ],
   "source": [
    "#marginal for the Butler B\n",
    "print('p(B=True)=',df[df['B']==1].iloc[:,3].sum())\n",
    "print('p(B=False)=',df[df['B']==0].iloc[:,3].sum())"
   ]
  },
  {
   "cell_type": "markdown",
   "metadata": {},
   "source": [
    "Marginal for the __Maid=True__:\n",
    "    $$p(M=\\mathrm{True})=\\sum_{k \\in \\mathrm{dom}(K)} \\left \\lbrace \\sum_{b \\in \\mathrm{dom}(B)} p(k, b, M=\\mathrm{True}) \\right \\rbrace$$"
   ]
  },
  {
   "cell_type": "code",
   "execution_count": 14,
   "metadata": {},
   "outputs": [
    {
     "name": "stdout",
     "output_type": "stream",
     "text": [
      "p(M=True)= 0.2\n",
      "p(M=False)= 0.8\n"
     ]
    }
   ],
   "source": [
    "#marginal for the MAid M\n",
    "print('p(M=True)=',df[df['M']==1].iloc[:,3].sum())\n",
    "print('p(M=False)=',df[df['M']==0].iloc[:,3].sum())"
   ]
  },
  {
   "cell_type": "code",
   "execution_count": null,
   "metadata": {},
   "outputs": [],
   "source": []
  }
 ],
 "metadata": {
  "kernelspec": {
   "display_name": "Python 3",
   "language": "python",
   "name": "python3"
  },
  "language_info": {
   "codemirror_mode": {
    "name": "ipython",
    "version": 3
   },
   "file_extension": ".py",
   "mimetype": "text/x-python",
   "name": "python",
   "nbconvert_exporter": "python",
   "pygments_lexer": "ipython3",
   "version": "3.8.5"
  }
 },
 "nbformat": 4,
 "nbformat_minor": 4
}
